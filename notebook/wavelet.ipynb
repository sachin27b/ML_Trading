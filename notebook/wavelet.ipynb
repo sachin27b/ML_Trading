{
 "cells": [
  {
   "cell_type": "code",
   "execution_count": null,
   "id": "4370486e",
   "metadata": {},
   "outputs": [],
   "source": [
    "import pywt\n",
    "pywt.families()"
   ]
  },
  {
   "cell_type": "markdown",
   "id": "6e283321",
   "metadata": {},
   "source": [
    "The {func}`wavelist` function with family name passed as an argument is used to\n",
    "obtain the list of wavelet names in each family."
   ]
  },
  {
   "cell_type": "code",
   "execution_count": null,
   "id": "c9e3ff78",
   "metadata": {},
   "outputs": [],
   "source": [
    "for family in pywt.families():\n",
    "    print(\"%s family: \" % family + ', '.join(pywt.wavelist(family)))"
   ]
  },
  {
   "cell_type": "markdown",
   "id": "f9d2a5e5",
   "metadata": {},
   "source": [
    "To get the full list of built-in wavelets' names, just use the `pywt.wavelist` function\n",
    "without any arguments.\n",
    "\n",
    "## Creating Wavelet objects\n",
    "\n",
    "Now that we know all the names, let's finally create a `Wavelet` object:"
   ]
  },
  {
   "cell_type": "code",
   "execution_count": null,
   "id": "03d99932",
   "metadata": {},
   "outputs": [],
   "source": [
    "w = pywt.Wavelet('db3')"
   ]
  },
  {
   "cell_type": "markdown",
   "id": "6f80dcaa",
   "metadata": {},
   "source": [
    "and, that's it!\n",
    "\n",
    "## Wavelet properties\n",
    "\n",
    "But what can we do with `Wavelet` objects? Well, they carry some\n",
    "interesting pieces of information.\n",
    "\n",
    "First, let's try printing a `Wavelet` object that we used earlier.\n",
    "This shows a brief information about its name, its family name and some\n",
    "properties like orthogonality and symmetry."
   ]
  },
  {
   "cell_type": "code",
   "execution_count": null,
   "id": "98da9a58",
   "metadata": {},
   "outputs": [],
   "source": [
    "print(w)"
   ]
  },
  {
   "cell_type": "markdown",
   "id": "85008e7d",
   "metadata": {},
   "source": [
    "But the most important bits of information are the wavelet filters coefficients,\n",
    "which are used in Discrete Wavelet Transform. These coefficients\n",
    "can be obtained via the `Wavelet.dec_lo`, `dec_hi`, `rec_lo`,\n",
    "and the `rec_hi` attributes, which\n",
    "correspond to lowpass & highpass decomposition filters, and lowpass &\n",
    "highpass reconstruction filters respectively:"
   ]
  },
  {
   "cell_type": "code",
   "execution_count": null,
   "id": "cf482775",
   "metadata": {},
   "outputs": [],
   "source": [
    "def print_array(arr):\n",
    "    print(\"[%s]\" % \", \".join([\"%.14f\" % x for x in arr]))"
   ]
  },
  {
   "cell_type": "markdown",
   "id": "dd1cc23c",
   "metadata": {},
   "source": [
    "Another way to get the filters data is to use the `filter_bank`\n",
    "attribute, which returns all four filters in a tuple:"
   ]
  },
  {
   "cell_type": "code",
   "execution_count": null,
   "id": "a4e27c2f",
   "metadata": {},
   "outputs": [],
   "source": [
    "w.filter_bank == (w.dec_lo, w.dec_hi, w.rec_lo, w.rec_hi)"
   ]
  },
  {
   "cell_type": "markdown",
   "id": "d81c848c",
   "metadata": {},
   "source": [
    "Other properties of a `Wavelet` object are:\n",
    "\n",
    "`name`, `short_family_name`, and `family_name`:"
   ]
  },
  {
   "cell_type": "code",
   "execution_count": null,
   "id": "f1542d25",
   "metadata": {},
   "outputs": [],
   "source": [
    "print(w.name)\n",
    "print(w.short_family_name)\n",
    "print(w.family_name)"
   ]
  },
  {
   "cell_type": "markdown",
   "id": "20a1cf1d",
   "metadata": {},
   "source": [
    "Decomposition (`dec_len`) and reconstruction (`rec_len`) filter lengths:"
   ]
  },
  {
   "cell_type": "code",
   "execution_count": null,
   "id": "914b8f8f",
   "metadata": {},
   "outputs": [],
   "source": [
    "w.dec_len"
   ]
  },
  {
   "cell_type": "code",
   "execution_count": null,
   "id": "d9e0ea15",
   "metadata": {},
   "outputs": [],
   "source": [
    "w.rec_len"
   ]
  },
  {
   "cell_type": "markdown",
   "id": "877202cd",
   "metadata": {},
   "source": [
    "Orthogonality (`orthogonal`) and biorthogonality (`biorthogonal`):"
   ]
  },
  {
   "cell_type": "code",
   "execution_count": null,
   "id": "46250ca6",
   "metadata": {},
   "outputs": [],
   "source": [
    "w.orthogonal"
   ]
  },
  {
   "cell_type": "code",
   "execution_count": null,
   "id": "91e9caeb",
   "metadata": {},
   "outputs": [],
   "source": [
    "w.biorthogonal"
   ]
  },
  {
   "cell_type": "markdown",
   "id": "e3c10b8f",
   "metadata": {},
   "source": [
    "Symmetry (`symmetry`):"
   ]
  },
  {
   "cell_type": "code",
   "execution_count": null,
   "id": "b17b0357",
   "metadata": {},
   "outputs": [],
   "source": [
    "print(w.symmetry)"
   ]
  },
  {
   "cell_type": "markdown",
   "id": "b6dd3b6e",
   "metadata": {},
   "source": [
    "Number of vanishing moments for the scaling function `phi` (`vanishing_moments_phi`)\n",
    "and the wavelet function `psi` (`vanishing_moments_psi`), associated with the filters:"
   ]
  },
  {
   "cell_type": "code",
   "execution_count": null,
   "id": "9600bf75",
   "metadata": {},
   "outputs": [],
   "source": [
    " w.vanishing_moments_phi"
   ]
  },
  {
   "cell_type": "code",
   "execution_count": null,
   "id": "d0bad2cd",
   "metadata": {},
   "outputs": [],
   "source": [
    "w.vanishing_moments_psi"
   ]
  },
  {
   "cell_type": "markdown",
   "id": "b85476ea",
   "metadata": {},
   "source": [
    "Now when we know a bit about the builtin Wavelets, let's see how to create\n",
    "[custom wavelets](custom-wavelets). These can be created in two ways:\n",
    "\n",
    "1. Passing the filter bank object that implements the `filter_bank` attribute. The\n",
    "   attribute must return four filters coefficients."
   ]
  },
  {
   "cell_type": "code",
   "execution_count": null,
   "id": "3a243129",
   "metadata": {},
   "outputs": [],
   "source": [
    "class MyHaarFilterBank(object):\n",
    "    @property\n",
    "    def filter_bank(self):\n",
    "        from math import sqrt\n",
    "        return (\n",
    "          [sqrt(2)/2, sqrt(2)/2], [-sqrt(2)/2, sqrt(2)/2],\n",
    "          [sqrt(2)/2, sqrt(2)/2], [sqrt(2)/2, -sqrt(2)/2]\n",
    "        )\n",
    "\n",
    "my_wavelet = pywt.Wavelet('My Haar Wavelet', filter_bank=MyHaarFilterBank())"
   ]
  },
  {
   "cell_type": "markdown",
   "id": "0e7f5ae9",
   "metadata": {},
   "source": [
    "2. Passing the filters coefficients directly as the `filter_bank` parameter."
   ]
  },
  {
   "cell_type": "code",
   "execution_count": null,
   "id": "58b558aa",
   "metadata": {},
   "outputs": [],
   "source": [
    "from math import sqrt\n",
    "my_filter_bank = (\n",
    "  [sqrt(2)/2, sqrt(2)/2], [-sqrt(2)/2, sqrt(2)/2],\n",
    "  [sqrt(2)/2, sqrt(2)/2], [sqrt(2)/2, -sqrt(2)/2]\n",
    ")\n",
    "my_wavelet = pywt.Wavelet('My Haar Wavelet', filter_bank=my_filter_bank)"
   ]
  },
  {
   "cell_type": "markdown",
   "id": "229f7123",
   "metadata": {},
   "source": [
    "Note that such custom wavelets **will not** have all the properties set\n",
    "to correct values and some of them could be missing:"
   ]
  },
  {
   "cell_type": "code",
   "execution_count": null,
   "id": "9b208b82",
   "metadata": {},
   "outputs": [],
   "source": [
    "print(my_wavelet)"
   ]
  },
  {
   "cell_type": "markdown",
   "id": "644e5072",
   "metadata": {},
   "source": [
    "You can, however, set a couple of them on your own:"
   ]
  },
  {
   "cell_type": "code",
   "execution_count": null,
   "id": "d7c2793e",
   "metadata": {},
   "outputs": [],
   "source": [
    "my_wavelet.orthogonal = True\n",
    "my_wavelet.biorthogonal = True"
   ]
  },
  {
   "cell_type": "markdown",
   "id": "a4b69cb0",
   "metadata": {},
   "source": [
    "Let's view the values of the custom wavelet properties again:"
   ]
  },
  {
   "cell_type": "code",
   "execution_count": null,
   "id": "7dfac2d9",
   "metadata": {},
   "outputs": [],
   "source": [
    "print(my_wavelet)"
   ]
  },
  {
   "cell_type": "markdown",
   "id": "48d05abe",
   "metadata": {},
   "source": [
    "## And now... the `wavefun`!\n",
    "\n",
    "We all know that the fun with wavelets is in wavelet functions.\n",
    "Now, what would this package be without a tool to compute wavelet\n",
    "and scaling functions approximations?\n",
    "\n",
    "This is the purpose of the `wavefun()` method, which is used to\n",
    "approximate scaling function (`phi`) and wavelet function (`psi`) at the\n",
    "given level of refinement, based on the filters coefficients.\n",
    "\n",
    "The number of returned values varies depending on the wavelet's\n",
    "orthogonality property. For orthogonal wavelets, the result is a tuple\n",
    "with the scaling function, wavelet function, and the xgrid coordinates."
   ]
  },
  {
   "cell_type": "code",
   "execution_count": null,
   "id": "0a0bd71a",
   "metadata": {},
   "outputs": [],
   "source": [
    "w = pywt.Wavelet('sym3')\n",
    "w.orthogonal"
   ]
  },
  {
   "cell_type": "code",
   "execution_count": null,
   "id": "3c0b21b3",
   "metadata": {},
   "outputs": [],
   "source": [
    "(phi, psi, x) = w.wavefun(level=5)"
   ]
  },
  {
   "cell_type": "markdown",
   "id": "63dfade9",
   "metadata": {},
   "source": [
    "For biorthogonal (non-orthogonal) wavelets, different scaling and wavelet\n",
    "functions are used for decomposition and reconstruction, and thus, five\n",
    "elements are returned: decomposition scaling and wavelet functions\n",
    "approximations, reconstruction scaling and wavelet functions approximations,\n",
    "and the xgrid."
   ]
  },
  {
   "cell_type": "code",
   "execution_count": null,
   "id": "8d60b3b9",
   "metadata": {},
   "outputs": [],
   "source": [
    "w = pywt.Wavelet('bior1.3')\n",
    "w.orthogonal"
   ]
  },
  {
   "cell_type": "code",
   "execution_count": null,
   "id": "0608b5f7",
   "metadata": {},
   "outputs": [],
   "source": [
    "(phi_d, psi_d, phi_r, psi_r, x) = w.wavefun(level=5)"
   ]
  },
  {
   "cell_type": "markdown",
   "id": "3f51fb40",
   "metadata": {},
   "source": [
    ":::{seealso}\n",
    "You can find live examples of the usage of `wavefun()` and\n",
    "images of all the built-in wavelets on the\n",
    "[Wavelet Properties Browser](http://wavelets.pybytes.com) page.\n",
    "\n",
    "However, **this website is no longer actively maintained** and does not\n",
    "include every wavelet present in PyWavelets. The precision of the wavelet\n",
    "coefficients at that site is also lower than those included in PyWavelets.\n",
    ":::"
   ]
  }
 ],
 "metadata": {
  "jupytext": {
   "text_representation": {
    "extension": ".md",
    "format_name": "myst",
    "format_version": "1.0.0",
    "jupytext_version": "1.16.1"
   }
  },
  "kernelspec": {
   "display_name": "Python 3 (ipykernel)",
   "language": "python",
   "name": "python3"
  }
 },
 "nbformat": 4,
 "nbformat_minor": 5
}
